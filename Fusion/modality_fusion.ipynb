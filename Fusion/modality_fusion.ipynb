{
  "nbformat": 4,
  "nbformat_minor": 0,
  "metadata": {
    "colab": {
      "name": "modality_fusion.ipynb",
      "provenance": [],
      "collapsed_sections": [],
      "toc_visible": true
    },
    "kernelspec": {
      "name": "python3",
      "display_name": "Python 3"
    }
  },
  "cells": [
    {
      "cell_type": "markdown",
      "metadata": {
        "id": "HYEAFW64TMtU",
        "colab_type": "text"
      },
      "source": [
        "# Fusion"
      ]
    },
    {
      "cell_type": "code",
      "metadata": {
        "id": "_TBuDk5-ycrR",
        "colab_type": "code",
        "tags": [],
        "colab": {
          "base_uri": "https://localhost:8080/",
          "height": 34
        },
        "outputId": "d7d0ebeb-f5e7-41c4-f264-e7fbacae1237"
      },
      "source": [
        "import numpy as np\n",
        "import pandas as pd\n",
        "import matplotlib.pyplot as plt\n",
        "from mpl_toolkits.mplot3d import Axes3D\n",
        "!pip install xlrd"
      ],
      "execution_count": 1,
      "outputs": [
        {
          "output_type": "stream",
          "text": [
            "Requirement already satisfied: xlrd in /usr/local/lib/python3.6/dist-packages (1.1.0)\n"
          ],
          "name": "stdout"
        }
      ]
    },
    {
      "cell_type": "markdown",
      "metadata": {
        "id": "qtV2AUEWTMta",
        "colab_type": "text"
      },
      "source": [
        "## Testing"
      ]
    },
    {
      "cell_type": "code",
      "metadata": {
        "id": "EyKiVdC2yrDJ",
        "colab_type": "code",
        "colab": {}
      },
      "source": [
        "## Create Test Data.\n",
        "predict1 = [[0, 2, 2, 2, 1, 1, 0, 1, 2, 2], [0.6, 0.8, 1, 0.7, 0.4, 0.6, 0.3, 0.9, 0.8, 0.5],[0, 0, 0, 1, 1, 1, 2, 2, 2, 2]]\n",
        "predict2 = [[1, 0, 0, 1, 0, 2, 0, 0, 2, 2], [0.5, 0.5, 0.3, 0.6, 0.7, 0.8, 0.9, 0.4, 0.7, 0.8],[0, 0, 0, 1, 1, 1, 2, 2, 2, 2]]\n",
        "pd1 = pd.DataFrame(predict1)\n",
        "pd1.transpose().to_csv(\"data1.csv\", sep=',')\n",
        "pd2 = pd.DataFrame(predict2)\n",
        "pd2.transpose().to_csv(\"data2.csv\", sep=',')\n",
        "\n",
        "visual_data = pd.read_csv(\"data1.csv\").transpose().values.tolist()\n",
        "audio_data = pd.read_csv(\"data2.csv\").transpose().values.tolist()"
      ],
      "execution_count": 2,
      "outputs": []
    },
    {
      "cell_type": "code",
      "metadata": {
        "id": "f-D3aH5kyw0t",
        "colab_type": "code",
        "colab": {}
      },
      "source": [
        "## Get predictions from each modality. \n",
        "visual_data = pd.read_csv(\"data1.csv\").transpose().values.tolist()\n",
        "audio_data = pd.read_csv(\"data2.csv\").transpose().values.tolist()\n",
        "\n",
        "visual_predict = visual_data[1]\n",
        "visual_prob = visual_data[2]\n",
        "audio_predict = audio_data[1]\n",
        "audio_prob = audio_data[2]\n",
        "annotations = visual_data[3] # visual_data[2] == audio_data[2]"
      ],
      "execution_count": 3,
      "outputs": []
    },
    {
      "cell_type": "markdown",
      "metadata": {
        "id": "tsD_9qbtTMtf",
        "colab_type": "text"
      },
      "source": [
        "## Extract prediction data for fusion"
      ]
    },
    {
      "cell_type": "code",
      "metadata": {
        "tags": [],
        "id": "7Qq-oibVTMth",
        "colab_type": "code",
        "colab": {}
      },
      "source": [
        "visual_predict = pd.read_csv(\"svm_prediction.csv\").transpose().values.tolist()[1]\n",
        "visual_prob = pd.read_csv(\"svm_prediction_probability.csv\").values.tolist()\n",
        "audio_predict = pd.read_csv(\"predictions_audio.csv\").transpose().values.tolist()[1]\n",
        "audio_prob = pd.read_csv(\"predictions_probabilities_audio.csv\").values.tolist()\n",
        "annotations = pd.read_excel(\"annotations_test.xlsx\").transpose().values.tolist()[0]"
      ],
      "execution_count": 4,
      "outputs": []
    },
    {
      "cell_type": "code",
      "metadata": {
        "id": "Aii5m_5kT8VK",
        "colab_type": "code",
        "colab": {}
      },
      "source": [
        "for i in range(len(visual_prob)):\n",
        "  visual_prob[i] = max(visual_prob[i][1:])\n",
        "  audio_prob[i] = max(audio_prob[i][1:])\n"
      ],
      "execution_count": 5,
      "outputs": []
    },
    {
      "cell_type": "markdown",
      "metadata": {
        "id": "4V5Ewa7bTMtk",
        "colab_type": "text"
      },
      "source": [
        "# Get predictions success rate based of weights"
      ]
    },
    {
      "cell_type": "code",
      "metadata": {
        "id": "hMBRWwoHKRwJ",
        "colab_type": "code",
        "tags": [],
        "colab": {}
      },
      "source": [
        "# Get predictions success rate based of weights\n",
        "weights = list(range(0, 101, 10)) \n",
        "\n",
        "def fusion_mechanism(video_weight, audio_weight, visual_prob, audio_prob, visual_predict, audio_predict):  \n",
        "  # get the predictions given a certain weight for video and audio.\n",
        "  predict = []\n",
        "  for i in range(len(visual_prob)):\n",
        "    vid_guess = visual_prob[i] * video_weight\n",
        "    aud_guess = audio_prob[i] * audio_weight\n",
        "    if vid_guess > aud_guess:\n",
        "      predict.append(visual_predict[i])\n",
        "    else:\n",
        "      predict.append(audio_predict[i])\n",
        "  return predict\n",
        "\n",
        "def find_prediction_rate(prediction, real):\n",
        "  # returns the percentage of correct guesses.\n",
        "  num_of_correct = 0.0\n",
        "  for i in range(len(prediction)):\n",
        "    if prediction[i] == real[i]:\n",
        "      num_of_correct += 1\n",
        "  return num_of_correct / len(prediction)\n",
        "\n",
        "fusion = []\n",
        "for outer in weights:\n",
        "  guessing_prob = []\n",
        "  for inner in weights:\n",
        "    predict = fusion_mechanism(outer, inner, visual_prob, audio_prob, visual_predict, audio_predict)\n",
        "    guessing_prob.append(find_prediction_rate(predict, annotations))\n",
        "  fusion.append(guessing_prob)\n"
      ],
      "execution_count": 6,
      "outputs": []
    },
    {
      "cell_type": "markdown",
      "metadata": {
        "id": "nQ1nTtFsTMtm",
        "colab_type": "text"
      },
      "source": [
        "# Plot data"
      ]
    },
    {
      "cell_type": "code",
      "metadata": {
        "id": "3FsX-pWIYIK7",
        "colab_type": "code",
        "colab": {
          "base_uri": "https://localhost:8080/",
          "height": 248
        },
        "outputId": "e9741248-81fd-4993-d526-2696c0094585"
      },
      "source": [
        "# Plot data \n",
        "data = np.array(fusion)\n",
        "plot = plt.figure()\n",
        "plot_3d = plot.add_subplot(111, projection='3d')\n",
        "\n",
        "x, y = np.meshgrid(weights, weights)  # `plot_surface` expects `x` and `y` data to be 2D\n",
        "plot_3d.plot_surface(x, y, data, shade=True)\n",
        "#plot_3d.view_init(30, 30)\n",
        "plt.show()"
      ],
      "execution_count": 7,
      "outputs": [
        {
          "output_type": "display_data",
          "data": {
            "image/png": "[encoded data removed]",
            "text/plain": [
              "<Figure size 432x288 with 1 Axes>"
            ]
          },
          "metadata": {
            "tags": [],
            "needs_background": "light"
          }
        }
      ]
    },
    {
      "cell_type": "markdown",
      "metadata": {
        "id": "Km7_pWCpTMtq",
        "colab_type": "text"
      },
      "source": [
        "# Find the indices of weights with the highest number of correct guesses"
      ]
    },
    {
      "cell_type": "code",
      "metadata": {
        "id": "wsOc5GwgcPz-",
        "colab_type": "code",
        "tags": [],
        "colab": {
          "base_uri": "https://localhost:8080/",
          "height": 34
        },
        "outputId": "47c67ed9-28e0-4b07-cc12-ab982221d919"
      },
      "source": [
        "# Find the indices of weights with the highest number of correct guesses.\n",
        "max_indices = np.where(data == np.amax(data))\n",
        "max_index_x = max_indices[0].tolist()\n",
        "max_index_y = max_indices[1].tolist()\n",
        "\n",
        "# Print the weight of the first instance of the max value\n",
        "print(weights[max_index_x[0]], weights[max_index_y[0]])"
      ],
      "execution_count": 8,
      "outputs": [
        {
          "output_type": "stream",
          "text": [
            "10 0\n"
          ],
          "name": "stdout"
        }
      ]
    },
    {
      "cell_type": "code",
      "metadata": {
        "id": "vKzynbZyXHPH",
        "colab_type": "code",
        "colab": {
          "base_uri": "https://localhost:8080/",
          "height": 34
        },
        "outputId": "3f38f8aa-f312-4e74-b38e-4c7ece5f83a9"
      },
      "source": [
        "print(\"Prediction rate:\", fusion[3][2])"
      ],
      "execution_count": 9,
      "outputs": [
        {
          "output_type": "stream",
          "text": [
            "Prediction rate: 0.2857142857142857\n"
          ],
          "name": "stdout"
        }
      ]
    }
  ]
}